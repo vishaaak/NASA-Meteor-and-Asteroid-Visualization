{
 "cells": [
  {
   "cell_type": "code",
   "execution_count": 1,
   "metadata": {},
   "outputs": [],
   "source": [
    "import seaborn as sns\n",
    "import numpy as np\n",
    "import matplotlib.pyplot as plt\n",
    "import pandas as pd"
   ]
  },
  {
   "cell_type": "code",
   "execution_count": 2,
   "metadata": {},
   "outputs": [],
   "source": [
    "dataset = pd.read_csv(\"SalesKaggle3.csv\")"
   ]
  },
  {
   "cell_type": "code",
   "execution_count": 3,
   "metadata": {},
   "outputs": [
    {
     "data": {
      "text/html": [
       "<div>\n",
       "<style scoped>\n",
       "    .dataframe tbody tr th:only-of-type {\n",
       "        vertical-align: middle;\n",
       "    }\n",
       "\n",
       "    .dataframe tbody tr th {\n",
       "        vertical-align: top;\n",
       "    }\n",
       "\n",
       "    .dataframe thead th {\n",
       "        text-align: right;\n",
       "    }\n",
       "</style>\n",
       "<table border=\"1\" class=\"dataframe\">\n",
       "  <thead>\n",
       "    <tr style=\"text-align: right;\">\n",
       "      <th></th>\n",
       "      <th>Order</th>\n",
       "      <th>File_Type</th>\n",
       "      <th>SKU_number</th>\n",
       "      <th>SoldFlag</th>\n",
       "      <th>SoldCount</th>\n",
       "      <th>MarketingType</th>\n",
       "      <th>ReleaseNumber</th>\n",
       "      <th>New_Release_Flag</th>\n",
       "      <th>StrengthFactor</th>\n",
       "      <th>PriceReg</th>\n",
       "      <th>ReleaseYear</th>\n",
       "      <th>ItemCount</th>\n",
       "      <th>LowUserPrice</th>\n",
       "      <th>LowNetPrice</th>\n",
       "    </tr>\n",
       "  </thead>\n",
       "  <tbody>\n",
       "    <tr>\n",
       "      <th>0</th>\n",
       "      <td>2</td>\n",
       "      <td>Historical</td>\n",
       "      <td>1737127</td>\n",
       "      <td>0.0</td>\n",
       "      <td>0.0</td>\n",
       "      <td>D</td>\n",
       "      <td>15</td>\n",
       "      <td>1</td>\n",
       "      <td>682743.0</td>\n",
       "      <td>44.99</td>\n",
       "      <td>2015</td>\n",
       "      <td>8</td>\n",
       "      <td>28.97</td>\n",
       "      <td>31.84</td>\n",
       "    </tr>\n",
       "    <tr>\n",
       "      <th>1</th>\n",
       "      <td>3</td>\n",
       "      <td>Historical</td>\n",
       "      <td>3255963</td>\n",
       "      <td>0.0</td>\n",
       "      <td>0.0</td>\n",
       "      <td>D</td>\n",
       "      <td>7</td>\n",
       "      <td>1</td>\n",
       "      <td>1016014.0</td>\n",
       "      <td>24.81</td>\n",
       "      <td>2005</td>\n",
       "      <td>39</td>\n",
       "      <td>0.00</td>\n",
       "      <td>15.54</td>\n",
       "    </tr>\n",
       "    <tr>\n",
       "      <th>2</th>\n",
       "      <td>4</td>\n",
       "      <td>Historical</td>\n",
       "      <td>612701</td>\n",
       "      <td>0.0</td>\n",
       "      <td>0.0</td>\n",
       "      <td>D</td>\n",
       "      <td>0</td>\n",
       "      <td>0</td>\n",
       "      <td>340464.0</td>\n",
       "      <td>46.00</td>\n",
       "      <td>2013</td>\n",
       "      <td>34</td>\n",
       "      <td>30.19</td>\n",
       "      <td>27.97</td>\n",
       "    </tr>\n",
       "    <tr>\n",
       "      <th>3</th>\n",
       "      <td>6</td>\n",
       "      <td>Historical</td>\n",
       "      <td>115883</td>\n",
       "      <td>1.0</td>\n",
       "      <td>1.0</td>\n",
       "      <td>D</td>\n",
       "      <td>4</td>\n",
       "      <td>1</td>\n",
       "      <td>334011.0</td>\n",
       "      <td>100.00</td>\n",
       "      <td>2006</td>\n",
       "      <td>20</td>\n",
       "      <td>133.93</td>\n",
       "      <td>83.15</td>\n",
       "    </tr>\n",
       "    <tr>\n",
       "      <th>4</th>\n",
       "      <td>7</td>\n",
       "      <td>Historical</td>\n",
       "      <td>863939</td>\n",
       "      <td>1.0</td>\n",
       "      <td>1.0</td>\n",
       "      <td>D</td>\n",
       "      <td>2</td>\n",
       "      <td>1</td>\n",
       "      <td>1287938.0</td>\n",
       "      <td>121.95</td>\n",
       "      <td>2010</td>\n",
       "      <td>28</td>\n",
       "      <td>4.00</td>\n",
       "      <td>23.99</td>\n",
       "    </tr>\n",
       "  </tbody>\n",
       "</table>\n",
       "</div>"
      ],
      "text/plain": [
       "   Order   File_Type  SKU_number  SoldFlag  SoldCount MarketingType  \\\n",
       "0      2  Historical     1737127       0.0        0.0             D   \n",
       "1      3  Historical     3255963       0.0        0.0             D   \n",
       "2      4  Historical      612701       0.0        0.0             D   \n",
       "3      6  Historical      115883       1.0        1.0             D   \n",
       "4      7  Historical      863939       1.0        1.0             D   \n",
       "\n",
       "   ReleaseNumber  New_Release_Flag  StrengthFactor  PriceReg  ReleaseYear  \\\n",
       "0             15                 1        682743.0     44.99         2015   \n",
       "1              7                 1       1016014.0     24.81         2005   \n",
       "2              0                 0        340464.0     46.00         2013   \n",
       "3              4                 1        334011.0    100.00         2006   \n",
       "4              2                 1       1287938.0    121.95         2010   \n",
       "\n",
       "   ItemCount  LowUserPrice  LowNetPrice  \n",
       "0          8         28.97        31.84  \n",
       "1         39          0.00        15.54  \n",
       "2         34         30.19        27.97  \n",
       "3         20        133.93        83.15  \n",
       "4         28          4.00        23.99  "
      ]
     },
     "execution_count": 3,
     "metadata": {},
     "output_type": "execute_result"
    }
   ],
   "source": [
    "dataset.head()"
   ]
  },
  {
   "cell_type": "code",
   "execution_count": 5,
   "metadata": {},
   "outputs": [
    {
     "data": {
      "image/png": "[encoded data removed]",
      "text/plain": [
       "<Figure size 432x288 with 2 Axes>"
      ]
     },
     "metadata": {},
     "output_type": "display_data"
    }
   ],
   "source": [
    "testing_data = np.random.rand(15, 20)\n",
    "test_heat_map = sns.heatmap(testing_data)"
   ]
  },
  {
   "cell_type": "code",
   "execution_count": null,
   "metadata": {},
   "outputs": [],
   "source": []
  }
 ],
 "metadata": {
  "kernelspec": {
   "display_name": "Python 3",
   "language": "python",
   "name": "python3"
  },
  "language_info": {
   "codemirror_mode": {
    "name": "ipython",
    "version": 3
   },
   "file_extension": ".py",
   "mimetype": "text/x-python",
   "name": "python",
   "nbconvert_exporter": "python",
   "pygments_lexer": "ipython3",
   "version": "3.6.7"
  }
 },
 "nbformat": 4,
 "nbformat_minor": 2
}
